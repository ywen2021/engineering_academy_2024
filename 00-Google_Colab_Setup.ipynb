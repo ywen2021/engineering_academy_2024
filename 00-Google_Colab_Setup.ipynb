{
 "cells": [
  {
   "cell_type": "markdown",
   "id": "d993b797",
   "metadata": {},
   "source": [
    "## Mounting your Google Drive in the runtime's virtual machine"
   ]
  },
  {
   "cell_type": "markdown",
   "id": "aff0daeb",
   "metadata": {},
   "source": [
    "The example below shows how to mount your Google Drive on your runtime using an authorization code, and how to write and read files there. Once executed, you will be able to see the new file (foo.txt) at https://drive.google.com/."
   ]
  },
  {
   "cell_type": "code",
   "execution_count": null,
   "id": "2590952f",
   "metadata": {},
   "outputs": [],
   "source": [
    "from google.colab import drive\n",
    "drive.mount('/content/drive')"
   ]
  },
  {
   "cell_type": "code",
   "execution_count": null,
   "id": "485cc3dc",
   "metadata": {},
   "outputs": [],
   "source": [
    "with open('/content/drive/My Drive/foo.txt', 'w') as f:\n",
    "  f.write('Hello Google Drive!')\n",
    "!cat /content/drive/My\\ Drive/foo.txt"
   ]
  }
 ],
 "metadata": {
  "kernelspec": {
   "display_name": "Python 3 (ipykernel)",
   "language": "python",
   "name": "python3"
  },
  "language_info": {
   "codemirror_mode": {
    "name": "ipython",
    "version": 3
   },
   "file_extension": ".py",
   "mimetype": "text/x-python",
   "name": "python",
   "nbconvert_exporter": "python",
   "pygments_lexer": "ipython3",
   "version": "3.10.0"
  }
 },
 "nbformat": 4,
 "nbformat_minor": 5
}
