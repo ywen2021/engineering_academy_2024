{
  "cells": [
    {
      "cell_type": "markdown",
      "id": "d993b797",
      "metadata": {
        "id": "d993b797"
      },
      "source": [
        "## SmileDetector\n",
        "Building a Smile Detection System Using Computer Vision.\n",
        "\n",
        "Explore the fascinating world of computer vision by creating a system that can detect and recognize smiles. \\\n",
        "Task 1: Create a face detector using OpenCV\\\n",
        "Task 2: Using a Convolutional Neural Network (CNN), you will learn how to collect data, preprocess images, train a model, and deploy it for smile detection."
      ]
    },
    {
      "cell_type": "markdown",
      "source": [
        "## Task 1"
      ],
      "metadata": {
        "id": "ECxHJHLpunon"
      },
      "id": "ECxHJHLpunon"
    },
    {
      "cell_type": "markdown",
      "source": [
        "### Step 1:Include the desired haar-cascades.\n",
        "Haar-cascades are classifiers that are used to detect features (of face in this case) by superimposing predefined patterns over face segments and are used as XML files. You can use to detect face, eye, smiles, etc. In our model, we will use face haar-cascades.\n"
      ],
      "metadata": {
        "id": "wMNlO3NGusvW"
      },
      "id": "wMNlO3NGusvW"
    },
    {
      "cell_type": "code",
      "source": [
        "import cv2\n",
        "face_cascade = cv2.CascadeClassifier(cv2.data.haarcascades +'haarcascade_frontalface_default.xml')"
      ],
      "metadata": {
        "id": "FT2qVYJUEHIx"
      },
      "id": "FT2qVYJUEHIx",
      "execution_count": null,
      "outputs": []
    },
    {
      "cell_type": "markdown",
      "source": [
        "### Step 2: define the detect_faces function"
      ],
      "metadata": {
        "id": "-gnBXfBBu_ew"
      },
      "id": "-gnBXfBBu_ew"
    },
    {
      "cell_type": "code",
      "source": [
        "# Function to detect faces in an image\n",
        "def detect_faces(image_path):\n",
        "    # Read the image\n",
        "    img = cv2.imread(image_path)\n",
        "    gray = cv2.cvtColor(img, cv2.COLOR_BGR2GRAY)\n",
        "\n",
        "    # Detect faces in the image\n",
        "    faces = face_cascade.detectMultiScale(gray, 1.3, 5)\n",
        "\n",
        "    for (x, y, w, h) in faces:\n",
        "        # Draw rectangle around face\n",
        "        cv2.rectangle(img, (x, y), (x+w, y+h), (255, 0, 0), 2)\n",
        "        roi_gray = gray[y:y+h, x:x+w]\n",
        "        roi_color = img[y:y+h, x:x+w]\n",
        "\n",
        "    return(img)"
      ],
      "metadata": {
        "id": "IXMm5I_Avnbq"
      },
      "id": "IXMm5I_Avnbq",
      "execution_count": null,
      "outputs": []
    },
    {
      "cell_type": "markdown",
      "source": [
        "\n",
        "### Step 3: upload your image to test"
      ],
      "metadata": {
        "id": "sPReEdhsvtYa"
      },
      "id": "sPReEdhsvtYa"
    },
    {
      "cell_type": "code",
      "source": [
        "from google.colab import files\n",
        "uploaded = files.upload()\n",
        "file_name = next(iter(uploaded))\n",
        "img=detect_faces(file_name)"
      ],
      "metadata": {
        "id": "AyAQiyBxv1Mn"
      },
      "id": "AyAQiyBxv1Mn",
      "execution_count": null,
      "outputs": []
    },
    {
      "cell_type": "code",
      "source": [
        "### display detected faces\n",
        "img_rgb = cv2.cvtColor(img, cv2.COLOR_BGR2RGB)\n",
        "import matplotlib.pyplot as plt\n",
        "plt.figure(figsize=(20,10))\n",
        "plt.imshow(img_rgb)\n",
        "plt.axis('off')"
      ],
      "metadata": {
        "id": "xa0iPuWRE4uK"
      },
      "id": "xa0iPuWRE4uK",
      "execution_count": null,
      "outputs": []
    },
    {
      "cell_type": "markdown",
      "source": [
        "## Task 2\n",
        "### Step 1: data collection\n",
        "we can download [smile or not face](https://www.kaggle.com/datasets/chazzer/smiling-or-not-face-data/data) data from Kaggle for training.\n",
        "1. First, go to Kaggle and make sure that you're logged in. Then go to your profile pic in the top right, and click on it. Then select Your Profile, then select the Account tab, and finally scroll down to the API section. Click Create New Token. download kaggle.json and upload it to Colab through the following code:"
      ],
      "metadata": {
        "id": "YtRFkVvK0KSg"
      },
      "id": "YtRFkVvK0KSg"
    },
    {
      "cell_type": "code",
      "source": [
        "! pip install -q kaggle\n",
        "from google.colab import files\n",
        "files.upload()"
      ],
      "metadata": {
        "id": "-G8NfQ6p67bp"
      },
      "id": "-G8NfQ6p67bp",
      "execution_count": null,
      "outputs": []
    },
    {
      "cell_type": "markdown",
      "source": [
        "2. we'll download the data."
      ],
      "metadata": {
        "id": "IaEW-4C17reo"
      },
      "id": "IaEW-4C17reo"
    },
    {
      "cell_type": "code",
      "source": [
        "# make kaggle directory\n",
        "!mkdir ~/.kaggle\n",
        "# move kaggle.json to hidden kaggle folder\n",
        "!cp kaggle.json ~/.kaggle/\n",
        "# change permissions on file\n",
        "!chmod 600 ~/.kaggle/kaggle.json\n",
        "# download zipped data\n",
        "!kaggle datasets download -d chazzer/smiling-or-not-face-data\n"
      ],
      "metadata": {
        "id": "yYkzRfd879aJ"
      },
      "id": "yYkzRfd879aJ",
      "execution_count": null,
      "outputs": []
    },
    {
      "cell_type": "markdown",
      "source": [
        "3. unzip the Data. The -qq just tells the computer not to print out the name of each file as it unzips."
      ],
      "metadata": {
        "id": "GvGwtMIX8Aps"
      },
      "id": "GvGwtMIX8Aps"
    },
    {
      "cell_type": "code",
      "source": [
        "!unzip -qq smiling-or-not-face-data.zip"
      ],
      "metadata": {
        "id": "R-V4j1vY9f5T"
      },
      "id": "R-V4j1vY9f5T",
      "execution_count": null,
      "outputs": []
    },
    {
      "cell_type": "markdown",
      "source": [
        "## generate a new folder smile_detector and move all data to smile_detector"
      ],
      "metadata": {
        "id": "wKAasyHzAkGh"
      },
      "id": "wKAasyHzAkGh"
    },
    {
      "cell_type": "code",
      "source": [
        "import shutil\n",
        "import os\n",
        "# Define source and destination paths\n",
        "source_folder1 = './non_smile'\n",
        "source_folder2 = './smile'\n",
        "source_folder3 = './test'\n",
        "destination_folder_train = './smile_detector/train/'  # Moving to 'new_location' directory\n",
        "destination_folder_test = './smile_detector'  # Moving to 'new_location' directory\n",
        "# Ensure the destination folder exists\n",
        "os.makedirs(os.path.dirname(destination_folder_train), exist_ok=True)\n",
        "try:\n",
        "    shutil.move(source_folder1, destination_folder_train)\n",
        "    shutil.move(source_folder2, destination_folder_train)\n",
        "    shutil.move(source_folder3, destination_folder_test)\n",
        "    print(\"Folders moved successfully.\")\n",
        "except FileNotFoundError as e:\n",
        "    print(f\"Error: {e}\")\n",
        "except shutil.Error as e:\n",
        "    print(f\"Error: {e}\")\n"
      ],
      "metadata": {
        "id": "_7su3QsoAVCo"
      },
      "id": "_7su3QsoAVCo",
      "execution_count": null,
      "outputs": []
    },
    {
      "cell_type": "code",
      "source": [
        "train_dir = \"/content/smile_detector/train\"\n",
        "test_dir = \"/content/smile_detector/test\""
      ],
      "metadata": {
        "id": "pymkcw6xEkFH"
      },
      "id": "pymkcw6xEkFH",
      "execution_count": null,
      "outputs": []
    },
    {
      "cell_type": "markdown",
      "source": [
        "Now use image_dataset_from_directory function to read your training data"
      ],
      "metadata": {
        "id": "Hwj0K6irsfev"
      },
      "id": "Hwj0K6irsfev"
    },
    {
      "cell_type": "code",
      "source": [
        "from tensorflow.keras.utils import image_dataset_from_directory\n",
        "train_ds = image_dataset_from_directory(train_dir, image_size=(64, 64), batch_size=32)"
      ],
      "metadata": {
        "id": "MJ-MQaSQsqja"
      },
      "id": "MJ-MQaSQsqja",
      "execution_count": null,
      "outputs": []
    },
    {
      "cell_type": "markdown",
      "source": [
        "### design and build your own CNN model"
      ],
      "metadata": {
        "id": "gmLOz2RostUe"
      },
      "id": "gmLOz2RostUe"
    },
    {
      "cell_type": "code",
      "source": [
        "### start your code here"
      ],
      "metadata": {
        "id": "3LEshlELtLFU"
      },
      "id": "3LEshlELtLFU",
      "execution_count": null,
      "outputs": []
    },
    {
      "cell_type": "markdown",
      "source": [
        "compile your model"
      ],
      "metadata": {
        "id": "x4iZwPIUHXGB"
      },
      "id": "x4iZwPIUHXGB"
    },
    {
      "cell_type": "code",
      "source": [
        "optimizer = Adam(learning_rate=0.001, beta_1=0.9, beta_2=0.999)\n",
        "model.compile(loss=\"binary_crossentropy\", optimizer=\"adam\", metrics=[\"accuracy\"])"
      ],
      "metadata": {
        "id": "_5yIB86itR6w"
      },
      "id": "_5yIB86itR6w",
      "execution_count": null,
      "outputs": []
    },
    {
      "cell_type": "markdown",
      "source": [
        "Train your model, use model.fit()"
      ],
      "metadata": {
        "id": "CTQZKanOtcit"
      },
      "id": "CTQZKanOtcit"
    },
    {
      "cell_type": "code",
      "source": [],
      "metadata": {
        "id": "yvPa5xhYFjxe"
      },
      "id": "yvPa5xhYFjxe",
      "execution_count": null,
      "outputs": []
    },
    {
      "cell_type": "markdown",
      "source": [
        "Upload a new image, either take a pic yourself or find a face pic online"
      ],
      "metadata": {
        "id": "vzUi_li_tklN"
      },
      "id": "vzUi_li_tklN"
    },
    {
      "cell_type": "code",
      "source": [
        "uploaded = files.upload()\n",
        "file_name = next(iter(uploaded))"
      ],
      "metadata": {
        "id": "osjl1UuvtsJ5"
      },
      "id": "osjl1UuvtsJ5",
      "execution_count": null,
      "outputs": []
    },
    {
      "cell_type": "markdown",
      "source": [
        "read your image and then resize to (64,64)\n"
      ],
      "metadata": {
        "id": "WJ3y2un-HrgT"
      },
      "id": "WJ3y2un-HrgT"
    },
    {
      "cell_type": "code",
      "source": [
        "import numpy as np\n",
        "img = cv2.resize(cv2.imread(file_name),(64,64))\n",
        "img = np.reshape(img,[1,64,64,3])"
      ],
      "metadata": {
        "id": "d15syFnmH0Ev"
      },
      "id": "d15syFnmH0Ev",
      "execution_count": null,
      "outputs": []
    },
    {
      "cell_type": "markdown",
      "source": [
        "Make prediction"
      ],
      "metadata": {
        "id": "aMQw7bVGtwmb"
      },
      "id": "aMQw7bVGtwmb"
    },
    {
      "cell_type": "code",
      "source": [
        "classes = model.predict(img)\n",
        "classes = np.argmax(classes )\n",
        "class_names[classes]"
      ],
      "metadata": {
        "id": "sxg7ianMtyka"
      },
      "id": "sxg7ianMtyka",
      "execution_count": null,
      "outputs": []
    }
  ],
  "metadata": {
    "kernelspec": {
      "display_name": "Python 3 (ipykernel)",
      "language": "python",
      "name": "python3"
    },
    "language_info": {
      "codemirror_mode": {
        "name": "ipython",
        "version": 3
      },
      "file_extension": ".py",
      "mimetype": "text/x-python",
      "name": "python",
      "nbconvert_exporter": "python",
      "pygments_lexer": "ipython3",
      "version": "3.10.0"
    },
    "colab": {
      "provenance": []
    }
  },
  "nbformat": 4,
  "nbformat_minor": 5
}