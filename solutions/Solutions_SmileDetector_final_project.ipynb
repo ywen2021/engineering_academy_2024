{
  "cells": [
    {
      "cell_type": "markdown",
      "id": "d993b797",
      "metadata": {
        "id": "d993b797"
      },
      "source": [
        "## SmileDetector\n",
        "Building a Smile Detection System Using Computer Vision.\n",
        "\n",
        "Explore the fascinating world of computer vision by creating a system that can detect and recognize smiles. \\\n",
        "Task 1: Create a smile detector using OpenCV\\\n",
        "Task 2: Using a Convolutional Neural Network (CNN), you will learn how to collect data, preprocess images, train a model, and deploy it for smile detection."
      ]
    },
    {
      "cell_type": "markdown",
      "source": [
        "## Task 1"
      ],
      "metadata": {
        "id": "ECxHJHLpunon"
      },
      "id": "ECxHJHLpunon"
    },
    {
      "cell_type": "markdown",
      "source": [
        "### Step 1:Include the desired haar-cascades.\n",
        "Haar-cascades are classifiers that are used to detect features (of face in this case) by superimposing predefined patterns over face segments and are used as XML files. You can use to detect face, eye, smiles, etc. In our model, we will use face haar-cascades.\n"
      ],
      "metadata": {
        "id": "wMNlO3NGusvW"
      },
      "id": "wMNlO3NGusvW"
    },
    {
      "cell_type": "code",
      "source": [
        "import cv2\n",
        "face_cascade = cv2.CascadeClassifier(cv2.data.haarcascades +'haarcascade_frontalface_default.xml')\n"
      ],
      "metadata": {
        "id": "BzQCGmyFzSDp"
      },
      "id": "BzQCGmyFzSDp",
      "execution_count": null,
      "outputs": []
    },
    {
      "cell_type": "markdown",
      "source": [
        "### Step 2: define the detect_faces function"
      ],
      "metadata": {
        "id": "-gnBXfBBu_ew"
      },
      "id": "-gnBXfBBu_ew"
    },
    {
      "cell_type": "code",
      "source": [
        "# Function to detect smiles in an image\n",
        "def detect_faces(image_path):\n",
        "    # Read the image\n",
        "    img = cv2.imread(image_path)\n",
        "    gray = cv2.cvtColor(img, cv2.COLOR_BGR2GRAY)\n",
        "\n",
        "    # Detect faces in the image\n",
        "    faces = face_cascade.detectMultiScale(gray, 1.3, 5)\n",
        "\n",
        "    for (x, y, w, h) in faces:\n",
        "        # Draw rectangle around face\n",
        "        cv2.rectangle(img, (x, y), (x+w, y+h), (255, 0, 0), 2)\n",
        "        roi_gray = gray[y:y+h, x:x+w]\n",
        "        roi_color = img[y:y+h, x:x+w]\n",
        "\n",
        "    return(img)\n",
        "\n",
        "uploaded = files.upload()\n",
        "file_name = next(iter(uploaded))\n",
        "img=detect_faces(file_name)"
      ],
      "metadata": {
        "id": "IXMm5I_Avnbq"
      },
      "id": "IXMm5I_Avnbq",
      "execution_count": null,
      "outputs": []
    },
    {
      "cell_type": "code",
      "source": [
        "### display detected faces\n",
        "img_rgb = cv2.cvtColor(img, cv2.COLOR_BGR2RGB)\n",
        "import matplotlib.pyplot as plt\n",
        "plt.figure(figsize=(20,10))\n",
        "plt.imshow(img_rgb)\n",
        "plt.axis('off')"
      ],
      "metadata": {
        "id": "4wZMwuUKK19g"
      },
      "id": "4wZMwuUKK19g",
      "execution_count": null,
      "outputs": []
    },
    {
      "cell_type": "markdown",
      "source": [
        "## Task 2\n",
        "### Step 1: data collection\n",
        "we can download [smile or not face](https://www.kaggle.com/datasets/chazzer/smiling-or-not-face-data/data) data from Kaggle for training.\n",
        "1. First, go to Kaggle and make sure that you're logged in. Then go to your profile pic in the top right, and click on it. Then select Your Profile, then select the Account tab, and finally scroll down to the API section. Click Create New Token. download kaggle.json and upload it to Colab through the following code:"
      ],
      "metadata": {
        "id": "YtRFkVvK0KSg"
      },
      "id": "YtRFkVvK0KSg"
    },
    {
      "cell_type": "code",
      "source": [
        "! pip install -q kaggle\n",
        "from google.colab import files\n",
        "files.upload()"
      ],
      "metadata": {
        "id": "-G8NfQ6p67bp"
      },
      "id": "-G8NfQ6p67bp",
      "execution_count": null,
      "outputs": []
    },
    {
      "cell_type": "markdown",
      "source": [
        "2. we'll download the data."
      ],
      "metadata": {
        "id": "IaEW-4C17reo"
      },
      "id": "IaEW-4C17reo"
    },
    {
      "cell_type": "code",
      "source": [
        "# make kaggle directory\n",
        "!mkdir ~/.kaggle\n",
        "# move kaggle.json to hidden kaggle folder\n",
        "!cp kaggle.json ~/.kaggle/\n",
        "# change permissions on file\n",
        "!chmod 600 ~/.kaggle/kaggle.json\n",
        "# download zipped data\n",
        "!kaggle datasets download -d chazzer/smiling-or-not-face-data\n"
      ],
      "metadata": {
        "id": "yYkzRfd879aJ"
      },
      "id": "yYkzRfd879aJ",
      "execution_count": null,
      "outputs": []
    },
    {
      "cell_type": "markdown",
      "source": [
        "3. unzip the Data. The -qq just tells the computer not to print out the name of each file as it unzips."
      ],
      "metadata": {
        "id": "GvGwtMIX8Aps"
      },
      "id": "GvGwtMIX8Aps"
    },
    {
      "cell_type": "code",
      "source": [
        "!unzip -qq smiling-or-not-face-data.zip"
      ],
      "metadata": {
        "id": "R-V4j1vY9f5T"
      },
      "id": "R-V4j1vY9f5T",
      "execution_count": null,
      "outputs": []
    },
    {
      "cell_type": "markdown",
      "source": [
        "## generate a new folder smile_detector and move all data to smile_detector"
      ],
      "metadata": {
        "id": "wKAasyHzAkGh"
      },
      "id": "wKAasyHzAkGh"
    },
    {
      "cell_type": "code",
      "source": [
        "import shutil\n",
        "import os\n",
        "# Define source and destination paths\n",
        "source_folder1 = './non_smile'\n",
        "source_folder2 = './smile'\n",
        "source_folder3 = './test'\n",
        "destination_folder_train = './smile_detector/train/'  # Moving to 'new_location' directory\n",
        "destination_folder_test = './smile_detector'  # Moving to 'new_location' directory\n",
        "# Ensure the destination folder exists\n",
        "os.makedirs(os.path.dirname(destination_folder_train), exist_ok=True)\n",
        "try:\n",
        "    shutil.move(source_folder1, destination_folder_train)\n",
        "    shutil.move(source_folder2, destination_folder_train)\n",
        "    shutil.move(source_folder3, destination_folder_test)\n",
        "    print(\"Folders moved successfully.\")\n",
        "except FileNotFoundError as e:\n",
        "    print(f\"Error: {e}\")\n",
        "except shutil.Error as e:\n",
        "    print(f\"Error: {e}\")\n"
      ],
      "metadata": {
        "id": "_7su3QsoAVCo",
        "colab": {
          "base_uri": "https://localhost:8080/"
        },
        "outputId": "26d960cb-6380-485e-c1e5-080359b35999"
      },
      "id": "_7su3QsoAVCo",
      "execution_count": null,
      "outputs": [
        {
          "output_type": "stream",
          "name": "stdout",
          "text": [
            "Folders moved successfully.\n"
          ]
        }
      ]
    },
    {
      "cell_type": "code",
      "source": [
        "train_dir = \"/content/smile_detector/train\"\n",
        "test_dir = \"/content/smile_detector/test\""
      ],
      "metadata": {
        "id": "pymkcw6xEkFH"
      },
      "id": "pymkcw6xEkFH",
      "execution_count": null,
      "outputs": []
    },
    {
      "cell_type": "markdown",
      "source": [
        "Now use image_dataset_from_directory function to read your training data"
      ],
      "metadata": {
        "id": "Hwj0K6irsfev"
      },
      "id": "Hwj0K6irsfev"
    },
    {
      "cell_type": "code",
      "source": [
        "### start your code here\n",
        "from tensorflow.keras.utils import image_dataset_from_directory\n",
        "\n",
        "train_ds = image_dataset_from_directory(train_dir, image_size=(64, 64), batch_size=32)\n"
      ],
      "metadata": {
        "id": "MJ-MQaSQsqja",
        "colab": {
          "base_uri": "https://localhost:8080/",
          "height": 176
        },
        "outputId": "1d19fad1-3762-4a7c-fb46-2f72b9c39cfe"
      },
      "id": "MJ-MQaSQsqja",
      "execution_count": null,
      "outputs": [
        {
          "output_type": "error",
          "ename": "NameError",
          "evalue": "name 'train_dir' is not defined",
          "traceback": [
            "\u001b[0;31m---------------------------------------------------------------------------\u001b[0m",
            "\u001b[0;31mNameError\u001b[0m                                 Traceback (most recent call last)",
            "\u001b[0;32m<ipython-input-1-81a23a4cc7a6>\u001b[0m in \u001b[0;36m<cell line: 4>\u001b[0;34m()\u001b[0m\n\u001b[1;32m      2\u001b[0m \u001b[0;32mfrom\u001b[0m \u001b[0mtensorflow\u001b[0m\u001b[0;34m.\u001b[0m\u001b[0mkeras\u001b[0m\u001b[0;34m.\u001b[0m\u001b[0mutils\u001b[0m \u001b[0;32mimport\u001b[0m \u001b[0mimage_dataset_from_directory\u001b[0m\u001b[0;34m\u001b[0m\u001b[0;34m\u001b[0m\u001b[0m\n\u001b[1;32m      3\u001b[0m \u001b[0;34m\u001b[0m\u001b[0m\n\u001b[0;32m----> 4\u001b[0;31m \u001b[0mtrain_ds\u001b[0m \u001b[0;34m=\u001b[0m \u001b[0mimage_dataset_from_directory\u001b[0m\u001b[0;34m(\u001b[0m\u001b[0mtrain_dir\u001b[0m\u001b[0;34m,\u001b[0m \u001b[0mimage_size\u001b[0m\u001b[0;34m=\u001b[0m\u001b[0;34m(\u001b[0m\u001b[0;36m64\u001b[0m\u001b[0;34m,\u001b[0m \u001b[0;36m64\u001b[0m\u001b[0;34m)\u001b[0m\u001b[0;34m,\u001b[0m \u001b[0mbatch_size\u001b[0m\u001b[0;34m=\u001b[0m\u001b[0;36m32\u001b[0m\u001b[0;34m)\u001b[0m\u001b[0;34m\u001b[0m\u001b[0;34m\u001b[0m\u001b[0m\n\u001b[0m",
            "\u001b[0;31mNameError\u001b[0m: name 'train_dir' is not defined"
          ]
        }
      ]
    },
    {
      "cell_type": "code",
      "source": [
        "class_names=train_ds.class_names"
      ],
      "metadata": {
        "id": "ww8sehlGRyfm"
      },
      "id": "ww8sehlGRyfm",
      "execution_count": null,
      "outputs": []
    },
    {
      "cell_type": "markdown",
      "source": [
        "### design and build your own CNN model"
      ],
      "metadata": {
        "id": "gmLOz2RostUe"
      },
      "id": "gmLOz2RostUe"
    },
    {
      "cell_type": "code",
      "source": [
        "### start your code here\n",
        "from keras.models import Sequential\n",
        "from keras.layers import Dense, Dropout, Flatten, Conv2D, MaxPool2D\n",
        "from keras.optimizers import Adam\n",
        "\n",
        "\n",
        "model = Sequential()\n",
        "#\n",
        "model.add(Conv2D(filters = 8, kernel_size = (5,5),padding = 'Same',\n",
        "                 activation ='relu', input_shape = (64,64,3)))\n",
        "model.add(MaxPool2D(pool_size=(2,2)))\n",
        "model.add(Dropout(0.25))\n",
        "#\n",
        "model.add(Conv2D(filters = 16, kernel_size = (3,3),padding = 'Same',\n",
        "                 activation ='relu'))\n",
        "model.add(MaxPool2D(pool_size=(2,2), strides=(2,2)))\n",
        "model.add(Dropout(0.25))\n",
        "# fully connected\n",
        "model.add(Flatten())\n",
        "model.add(Dense(256, activation = \"relu\"))\n",
        "model.add(Dropout(0.5))\n",
        "model.add(Dense(1, activation = \"sigmoid\"))"
      ],
      "metadata": {
        "id": "3LEshlELtLFU"
      },
      "id": "3LEshlELtLFU",
      "execution_count": null,
      "outputs": []
    },
    {
      "cell_type": "markdown",
      "source": [
        "Compile model"
      ],
      "metadata": {
        "id": "zF0L3RwutNy4"
      },
      "id": "zF0L3RwutNy4"
    },
    {
      "cell_type": "code",
      "source": [
        "optimizer = Adam(learning_rate=0.001, beta_1=0.9, beta_2=0.999)\n",
        "model.compile(loss=\"binary_crossentropy\", optimizer=\"adam\", metrics=[\"accuracy\"])"
      ],
      "metadata": {
        "id": "_5yIB86itR6w"
      },
      "id": "_5yIB86itR6w",
      "execution_count": null,
      "outputs": []
    },
    {
      "cell_type": "markdown",
      "source": [
        "Train your model"
      ],
      "metadata": {
        "id": "CTQZKanOtcit"
      },
      "id": "CTQZKanOtcit"
    },
    {
      "cell_type": "code",
      "source": [
        "history = model.fit(\n",
        "    train_ds,\n",
        "    epochs=20\n",
        ")"
      ],
      "metadata": {
        "id": "yvPa5xhYFjxe",
        "colab": {
          "base_uri": "https://localhost:8080/"
        },
        "outputId": "fd06ef2b-d552-47dc-a122-d9083760f411"
      },
      "id": "yvPa5xhYFjxe",
      "execution_count": null,
      "outputs": [
        {
          "output_type": "stream",
          "name": "stdout",
          "text": [
            "Epoch 1/20\n",
            "38/38 [==============================] - 8s 134ms/step - loss: 13.3995 - accuracy: 0.5062\n",
            "Epoch 2/20\n",
            "38/38 [==============================] - 5s 117ms/step - loss: 0.7571 - accuracy: 0.5220\n",
            "Epoch 3/20\n",
            "38/38 [==============================] - 4s 102ms/step - loss: 0.7091 - accuracy: 0.5337\n",
            "Epoch 4/20\n",
            "38/38 [==============================] - 5s 120ms/step - loss: 0.6787 - accuracy: 0.5686\n",
            "Epoch 5/20\n",
            "38/38 [==============================] - 5s 126ms/step - loss: 0.6893 - accuracy: 0.5478\n",
            "Epoch 6/20\n",
            "38/38 [==============================] - 4s 102ms/step - loss: 0.6683 - accuracy: 0.5819\n",
            "Epoch 7/20\n",
            "38/38 [==============================] - 5s 122ms/step - loss: 0.6379 - accuracy: 0.6027\n",
            "Epoch 8/20\n",
            "38/38 [==============================] - 5s 119ms/step - loss: 0.5763 - accuracy: 0.6941\n",
            "Epoch 9/20\n",
            "38/38 [==============================] - 4s 103ms/step - loss: 0.5102 - accuracy: 0.7648\n",
            "Epoch 10/20\n",
            "38/38 [==============================] - 4s 117ms/step - loss: 0.4611 - accuracy: 0.7930\n",
            "Epoch 11/20\n",
            "38/38 [==============================] - 5s 119ms/step - loss: 0.3975 - accuracy: 0.8313\n",
            "Epoch 12/20\n",
            "38/38 [==============================] - 4s 103ms/step - loss: 0.3230 - accuracy: 0.8603\n",
            "Epoch 13/20\n",
            "38/38 [==============================] - 5s 123ms/step - loss: 0.2954 - accuracy: 0.8795\n",
            "Epoch 14/20\n",
            "38/38 [==============================] - 5s 118ms/step - loss: 0.2599 - accuracy: 0.8894\n",
            "Epoch 15/20\n",
            "38/38 [==============================] - 4s 103ms/step - loss: 0.2307 - accuracy: 0.9094\n",
            "Epoch 16/20\n",
            "38/38 [==============================] - 6s 147ms/step - loss: 0.2162 - accuracy: 0.9036\n",
            "Epoch 17/20\n",
            "38/38 [==============================] - 4s 102ms/step - loss: 0.1791 - accuracy: 0.9327\n",
            "Epoch 18/20\n",
            "38/38 [==============================] - 6s 146ms/step - loss: 0.1698 - accuracy: 0.9401\n",
            "Epoch 19/20\n",
            "38/38 [==============================] - 4s 102ms/step - loss: 0.1536 - accuracy: 0.9335\n",
            "Epoch 20/20\n",
            "38/38 [==============================] - 6s 149ms/step - loss: 0.1923 - accuracy: 0.9244\n"
          ]
        }
      ]
    },
    {
      "cell_type": "markdown",
      "source": [
        "Upload a new image, either yourself or find a face pic online"
      ],
      "metadata": {
        "id": "vzUi_li_tklN"
      },
      "id": "vzUi_li_tklN"
    },
    {
      "cell_type": "code",
      "source": [
        "uploaded = files.upload()\n",
        "file_name = next(iter(uploaded))"
      ],
      "metadata": {
        "id": "osjl1UuvtsJ5",
        "colab": {
          "base_uri": "https://localhost:8080/",
          "height": 73
        },
        "outputId": "eebff7a0-91dd-4ed0-cbf5-fc07aaa46d68"
      },
      "id": "osjl1UuvtsJ5",
      "execution_count": null,
      "outputs": [
        {
          "output_type": "display_data",
          "data": {
            "text/plain": [
              "<IPython.core.display.HTML object>"
            ],
            "text/html": [
              "\n",
              "     <input type=\"file\" id=\"files-4fa0e4d5-1fd7-44f4-bda2-bf37a6a34679\" name=\"files[]\" multiple disabled\n",
              "        style=\"border:none\" />\n",
              "     <output id=\"result-4fa0e4d5-1fd7-44f4-bda2-bf37a6a34679\">\n",
              "      Upload widget is only available when the cell has been executed in the\n",
              "      current browser session. Please rerun this cell to enable.\n",
              "      </output>\n",
              "      <script>// Copyright 2017 Google LLC\n",
              "//\n",
              "// Licensed under the Apache License, Version 2.0 (the \"License\");\n",
              "// you may not use this file except in compliance with the License.\n",
              "// You may obtain a copy of the License at\n",
              "//\n",
              "//      http://www.apache.org/licenses/LICENSE-2.0\n",
              "//\n",
              "// Unless required by applicable law or agreed to in writing, software\n",
              "// distributed under the License is distributed on an \"AS IS\" BASIS,\n",
              "// WITHOUT WARRANTIES OR CONDITIONS OF ANY KIND, either express or implied.\n",
              "// See the License for the specific language governing permissions and\n",
              "// limitations under the License.\n",
              "\n",
              "/**\n",
              " * @fileoverview Helpers for google.colab Python module.\n",
              " */\n",
              "(function(scope) {\n",
              "function span(text, styleAttributes = {}) {\n",
              "  const element = document.createElement('span');\n",
              "  element.textContent = text;\n",
              "  for (const key of Object.keys(styleAttributes)) {\n",
              "    element.style[key] = styleAttributes[key];\n",
              "  }\n",
              "  return element;\n",
              "}\n",
              "\n",
              "// Max number of bytes which will be uploaded at a time.\n",
              "const MAX_PAYLOAD_SIZE = 100 * 1024;\n",
              "\n",
              "function _uploadFiles(inputId, outputId) {\n",
              "  const steps = uploadFilesStep(inputId, outputId);\n",
              "  const outputElement = document.getElementById(outputId);\n",
              "  // Cache steps on the outputElement to make it available for the next call\n",
              "  // to uploadFilesContinue from Python.\n",
              "  outputElement.steps = steps;\n",
              "\n",
              "  return _uploadFilesContinue(outputId);\n",
              "}\n",
              "\n",
              "// This is roughly an async generator (not supported in the browser yet),\n",
              "// where there are multiple asynchronous steps and the Python side is going\n",
              "// to poll for completion of each step.\n",
              "// This uses a Promise to block the python side on completion of each step,\n",
              "// then passes the result of the previous step as the input to the next step.\n",
              "function _uploadFilesContinue(outputId) {\n",
              "  const outputElement = document.getElementById(outputId);\n",
              "  const steps = outputElement.steps;\n",
              "\n",
              "  const next = steps.next(outputElement.lastPromiseValue);\n",
              "  return Promise.resolve(next.value.promise).then((value) => {\n",
              "    // Cache the last promise value to make it available to the next\n",
              "    // step of the generator.\n",
              "    outputElement.lastPromiseValue = value;\n",
              "    return next.value.response;\n",
              "  });\n",
              "}\n",
              "\n",
              "/**\n",
              " * Generator function which is called between each async step of the upload\n",
              " * process.\n",
              " * @param {string} inputId Element ID of the input file picker element.\n",
              " * @param {string} outputId Element ID of the output display.\n",
              " * @return {!Iterable<!Object>} Iterable of next steps.\n",
              " */\n",
              "function* uploadFilesStep(inputId, outputId) {\n",
              "  const inputElement = document.getElementById(inputId);\n",
              "  inputElement.disabled = false;\n",
              "\n",
              "  const outputElement = document.getElementById(outputId);\n",
              "  outputElement.innerHTML = '';\n",
              "\n",
              "  const pickedPromise = new Promise((resolve) => {\n",
              "    inputElement.addEventListener('change', (e) => {\n",
              "      resolve(e.target.files);\n",
              "    });\n",
              "  });\n",
              "\n",
              "  const cancel = document.createElement('button');\n",
              "  inputElement.parentElement.appendChild(cancel);\n",
              "  cancel.textContent = 'Cancel upload';\n",
              "  const cancelPromise = new Promise((resolve) => {\n",
              "    cancel.onclick = () => {\n",
              "      resolve(null);\n",
              "    };\n",
              "  });\n",
              "\n",
              "  // Wait for the user to pick the files.\n",
              "  const files = yield {\n",
              "    promise: Promise.race([pickedPromise, cancelPromise]),\n",
              "    response: {\n",
              "      action: 'starting',\n",
              "    }\n",
              "  };\n",
              "\n",
              "  cancel.remove();\n",
              "\n",
              "  // Disable the input element since further picks are not allowed.\n",
              "  inputElement.disabled = true;\n",
              "\n",
              "  if (!files) {\n",
              "    return {\n",
              "      response: {\n",
              "        action: 'complete',\n",
              "      }\n",
              "    };\n",
              "  }\n",
              "\n",
              "  for (const file of files) {\n",
              "    const li = document.createElement('li');\n",
              "    li.append(span(file.name, {fontWeight: 'bold'}));\n",
              "    li.append(span(\n",
              "        `(${file.type || 'n/a'}) - ${file.size} bytes, ` +\n",
              "        `last modified: ${\n",
              "            file.lastModifiedDate ? file.lastModifiedDate.toLocaleDateString() :\n",
              "                                    'n/a'} - `));\n",
              "    const percent = span('0% done');\n",
              "    li.appendChild(percent);\n",
              "\n",
              "    outputElement.appendChild(li);\n",
              "\n",
              "    const fileDataPromise = new Promise((resolve) => {\n",
              "      const reader = new FileReader();\n",
              "      reader.onload = (e) => {\n",
              "        resolve(e.target.result);\n",
              "      };\n",
              "      reader.readAsArrayBuffer(file);\n",
              "    });\n",
              "    // Wait for the data to be ready.\n",
              "    let fileData = yield {\n",
              "      promise: fileDataPromise,\n",
              "      response: {\n",
              "        action: 'continue',\n",
              "      }\n",
              "    };\n",
              "\n",
              "    // Use a chunked sending to avoid message size limits. See b/62115660.\n",
              "    let position = 0;\n",
              "    do {\n",
              "      const length = Math.min(fileData.byteLength - position, MAX_PAYLOAD_SIZE);\n",
              "      const chunk = new Uint8Array(fileData, position, length);\n",
              "      position += length;\n",
              "\n",
              "      const base64 = btoa(String.fromCharCode.apply(null, chunk));\n",
              "      yield {\n",
              "        response: {\n",
              "          action: 'append',\n",
              "          file: file.name,\n",
              "          data: base64,\n",
              "        },\n",
              "      };\n",
              "\n",
              "      let percentDone = fileData.byteLength === 0 ?\n",
              "          100 :\n",
              "          Math.round((position / fileData.byteLength) * 100);\n",
              "      percent.textContent = `${percentDone}% done`;\n",
              "\n",
              "    } while (position < fileData.byteLength);\n",
              "  }\n",
              "\n",
              "  // All done.\n",
              "  yield {\n",
              "    response: {\n",
              "      action: 'complete',\n",
              "    }\n",
              "  };\n",
              "}\n",
              "\n",
              "scope.google = scope.google || {};\n",
              "scope.google.colab = scope.google.colab || {};\n",
              "scope.google.colab._files = {\n",
              "  _uploadFiles,\n",
              "  _uploadFilesContinue,\n",
              "};\n",
              "})(self);\n",
              "</script> "
            ]
          },
          "metadata": {}
        },
        {
          "output_type": "stream",
          "name": "stdout",
          "text": [
            "Saving James_Jones_0001.jpg to James_Jones_0001.jpg\n"
          ]
        }
      ]
    },
    {
      "cell_type": "markdown",
      "source": [
        "Make prediction"
      ],
      "metadata": {
        "id": "aMQw7bVGtwmb"
      },
      "id": "aMQw7bVGtwmb"
    },
    {
      "cell_type": "code",
      "source": [
        "import numpy as np\n",
        "img = cv2.resize(cv2.imread(file_name),(64,64))\n",
        "img = np.reshape(img,[1,64,64,3])\n",
        "classes = model.predict(img)\n",
        "classes = np.argmax(classes )\n",
        "class_names[classes]"
      ],
      "metadata": {
        "id": "sxg7ianMtyka",
        "colab": {
          "base_uri": "https://localhost:8080/",
          "height": 53
        },
        "outputId": "0d51dba2-8e5b-4984-f098-5128f4f63b87"
      },
      "id": "sxg7ianMtyka",
      "execution_count": null,
      "outputs": [
        {
          "output_type": "stream",
          "name": "stdout",
          "text": [
            "1/1 [==============================] - 0s 22ms/step\n"
          ]
        },
        {
          "output_type": "execute_result",
          "data": {
            "text/plain": [
              "'non_smile'"
            ],
            "application/vnd.google.colaboratory.intrinsic+json": {
              "type": "string"
            }
          },
          "metadata": {},
          "execution_count": 81
        }
      ]
    }
  ],
  "metadata": {
    "kernelspec": {
      "display_name": "Python 3 (ipykernel)",
      "language": "python",
      "name": "python3"
    },
    "language_info": {
      "codemirror_mode": {
        "name": "ipython",
        "version": 3
      },
      "file_extension": ".py",
      "mimetype": "text/x-python",
      "name": "python",
      "nbconvert_exporter": "python",
      "pygments_lexer": "ipython3",
      "version": "3.10.0"
    },
    "colab": {
      "provenance": []
    }
  },
  "nbformat": 4,
  "nbformat_minor": 5
}